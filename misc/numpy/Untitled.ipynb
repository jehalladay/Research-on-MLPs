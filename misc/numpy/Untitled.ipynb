{
 "cells": [
  {
   "cell_type": "code",
   "execution_count": 1,
   "id": "fe4af449",
   "metadata": {},
   "outputs": [
    {
     "name": "stdout",
     "output_type": "stream",
     "text": [
      "\n",
      "    python:\t3.7.10\n",
      "\n",
      "    \tmatplotlib:\t3.3.4\n",
      "    \tnumpy:\t\t1.20.3\n",
      "    \tpandas:\t\t1.2.5\n",
      "    \tsklearn:\t0.24.2\n",
      "    \n"
     ]
    }
   ],
   "source": [
    "import os, platform, pprint, sys\n",
    "# import fastai\n",
    "import matplotlib as mpl\n",
    "import matplotlib.pyplot as plt\n",
    "import numpy as np\n",
    "import pandas as pd\n",
    "import sklearn\n",
    "\n",
    "\n",
    "seed: int = 14\n",
    "\n",
    "\n",
    "# set up pretty printer for easier data evaluation\n",
    "pretty = pprint.PrettyPrinter(indent=4, width=30).pprint\n",
    "\n",
    "\n",
    "# declare file paths for the data we will be working on\n",
    "file_path_1: str = '../../data/ddos/DDoS_vs_Benign_10000.csv'\n",
    "file_path_2: str = '../../data/ddos/DDoS_vs_Benign_50000.csv'\n",
    "dataPath   : str = './models'\n",
    "\n",
    "\n",
    "# print library and python versions for reproducibility\n",
    "print(\n",
    "    f'''\n",
    "    python:\\t{platform.python_version()}\n",
    "\n",
    "    \\tmatplotlib:\\t{mpl.__version__}\n",
    "    \\tnumpy:\\t\\t{np.__version__}\n",
    "    \\tpandas:\\t\\t{pd.__version__}\n",
    "    \\tsklearn:\\t{sklearn.__version__}\n",
    "    '''\n",
    ")"
   ]
  },
  {
   "cell_type": "code",
   "execution_count": 2,
   "id": "64ced269",
   "metadata": {},
   "outputs": [],
   "source": [
    "def load_data(filePath: str) -> pd.DataFrame:\n",
    "    '''\n",
    "        Loads the Dataset from the given filepath and caches it for quick access in the future\n",
    "        Function will only work when filepath is a .csv file\n",
    "    '''\n",
    "\n",
    "    # slice off the ./CSV/ from the filePath\n",
    "    if filePath[0] == '.' and filePath[1] == '.':\n",
    "        filePathClean: str = filePath[11::]\n",
    "        pickleDump: str = f'../../data/cache/{filePathClean}.pickle'\n",
    "    else:\n",
    "        pickleDump: str = f'../../data/cache/{filePath}.pickle'\n",
    "    \n",
    "    print(f'Loading Dataset: {filePath}')\n",
    "    print(f'\\tTo Dataset Cache: {pickleDump}\\n')\n",
    "    \n",
    "    # check if data already exists within cache\n",
    "    # if not, load data and cache it\n",
    "    if os.path.exists(pickleDump):\n",
    "        df = pd.read_pickle(pickleDump)\n",
    "    else:\n",
    "        df = pd.read_csv(filePath, low_memory=True)\n",
    "        df.to_pickle(pickleDump)\n",
    "    \n",
    "    return df"
   ]
  },
  {
   "cell_type": "code",
   "execution_count": 3,
   "id": "f51af9c1",
   "metadata": {},
   "outputs": [
    {
     "name": "stdout",
     "output_type": "stream",
     "text": [
      "Loading Dataset: ../../data/ddos/DDoS_vs_Benign_10000.csv\n",
      "\tTo Dataset Cache: ../../data/cache/ddos/DDoS_vs_Benign_10000.csv.pickle\n",
      "\n"
     ]
    }
   ],
   "source": [
    "df = load_data(file_path_1)"
   ]
  },
  {
   "cell_type": "code",
   "execution_count": 4,
   "id": "574b7938",
   "metadata": {},
   "outputs": [
    {
     "data": {
      "text/plain": [
       "(9992, 70)"
      ]
     },
     "execution_count": 4,
     "metadata": {},
     "output_type": "execute_result"
    }
   ],
   "source": [
    "df.shape"
   ]
  },
  {
   "cell_type": "code",
   "execution_count": 5,
   "id": "ee8d3bba",
   "metadata": {},
   "outputs": [],
   "source": [
    "X = df.values[:, :-1]"
   ]
  },
  {
   "cell_type": "code",
   "execution_count": 6,
   "id": "2e5f550a",
   "metadata": {},
   "outputs": [],
   "source": [
    "y = df.values[:,-1:]"
   ]
  },
  {
   "cell_type": "code",
   "execution_count": 7,
   "id": "8b0efc7e",
   "metadata": {},
   "outputs": [
    {
     "data": {
      "text/plain": [
       "(array([[6, 55043, 3, ..., 0.0, 0.0, 0],\n",
       "        [17, 22530, 2, ..., 0.0, 0.0, 0],\n",
       "        [17, 31817325, 24, ..., 28821270.0, 28821270.0, 1],\n",
       "        ...,\n",
       "        [6, 1, 2, ..., 0.0, 0.0, 1],\n",
       "        [6, 1, 2, ..., 0.0, 0.0, 1],\n",
       "        [6, 23736759, 6, ..., 12301020.0, 11435636.0, 1]], dtype=object),\n",
       " array([['BENIGN'],\n",
       "        ['BENIGN'],\n",
       "        ['BENIGN'],\n",
       "        ...,\n",
       "        ['DDOS'],\n",
       "        ['DDOS'],\n",
       "        ['DDOS']], dtype=object))"
      ]
     },
     "execution_count": 7,
     "metadata": {},
     "output_type": "execute_result"
    }
   ],
   "source": [
    "X,y"
   ]
  },
  {
   "cell_type": "code",
   "execution_count": 17,
   "id": "9f1a11b8",
   "metadata": {},
   "outputs": [],
   "source": [
    "I = np.array([.3,.84])\n",
    "vec = np.array([np.sqrt(2),np.sqrt(1.5)])\n",
    "m0 = np.array([0, 0, 1, 1, 1])\n",
    "W=np.array([[np.sqrt(2), .34,.12,.01,.41],\n",
    "            [.23,np.sqrt(1.2),.4,.5,np.sqrt(2.2)]])\n",
    "B=np.array([.1,.2,.3,.11,.24])\n",
    "M = np.diag(m0)"
   ]
  },
  {
   "cell_type": "code",
   "execution_count": 20,
   "id": "a68f6291",
   "metadata": {},
   "outputs": [],
   "source": [
    "a = np.matmul(W,M)"
   ]
  },
  {
   "cell_type": "code",
   "execution_count": 22,
   "id": "8649dc23",
   "metadata": {},
   "outputs": [
    {
     "data": {
      "text/plain": [
       "array([0.        , 0.        , 0.672     , 0.533     , 1.60892135])"
      ]
     },
     "execution_count": 22,
     "metadata": {},
     "output_type": "execute_result"
    }
   ],
   "source": [
    "np.matmul(I,a)+np.matmul(B,M)"
   ]
  },
  {
   "cell_type": "code",
   "execution_count": 23,
   "id": "2322a978",
   "metadata": {},
   "outputs": [
    {
     "data": {
      "text/plain": [
       "array([0.42426407, 1.02878569])"
      ]
     },
     "execution_count": 23,
     "metadata": {},
     "output_type": "execute_result"
    }
   ],
   "source": [
    "I*vec"
   ]
  },
  {
   "cell_type": "code",
   "execution_count": 27,
   "id": "0a8cfe01",
   "metadata": {},
   "outputs": [
    {
     "data": {
      "text/plain": [
       "1.4530497606808632"
      ]
     },
     "execution_count": 27,
     "metadata": {},
     "output_type": "execute_result"
    }
   ],
   "source": [
    "np.dot(I, vec)"
   ]
  },
  {
   "cell_type": "code",
   "execution_count": 28,
   "id": "996fcc94",
   "metadata": {},
   "outputs": [
    {
     "data": {
      "text/plain": [
       "array([[0.       , 0.       , 0.12     , 0.01     , 0.41     ],\n",
       "       [0.       , 0.       , 0.4      , 0.5      , 1.4832397]])"
      ]
     },
     "execution_count": 28,
     "metadata": {},
     "output_type": "execute_result"
    }
   ],
   "source": [
    "m0*W"
   ]
  },
  {
   "cell_type": "code",
   "execution_count": 29,
   "id": "732cefb7",
   "metadata": {},
   "outputs": [
    {
     "data": {
      "text/plain": [
       "array([[0.       , 0.       , 0.12     , 0.01     , 0.41     ],\n",
       "       [0.       , 0.       , 0.4      , 0.5      , 1.4832397]])"
      ]
     },
     "execution_count": 29,
     "metadata": {},
     "output_type": "execute_result"
    }
   ],
   "source": [
    "a"
   ]
  },
  {
   "cell_type": "code",
   "execution_count": 30,
   "id": "15f7c9a8",
   "metadata": {},
   "outputs": [
    {
     "data": {
      "text/plain": [
       "array([0.  , 0.  , 0.3 , 0.11, 0.24])"
      ]
     },
     "execution_count": 30,
     "metadata": {},
     "output_type": "execute_result"
    }
   ],
   "source": [
    "m0*B"
   ]
  },
  {
   "cell_type": "code",
   "execution_count": 31,
   "id": "2b35f494",
   "metadata": {},
   "outputs": [
    {
     "data": {
      "text/plain": [
       "array([0.  , 0.  , 0.3 , 0.11, 0.24])"
      ]
     },
     "execution_count": 31,
     "metadata": {},
     "output_type": "execute_result"
    }
   ],
   "source": [
    "np.matmul(B,M)"
   ]
  },
  {
   "cell_type": "code",
   "execution_count": 33,
   "id": "476dd06e",
   "metadata": {},
   "outputs": [],
   "source": [
    "def f(x):\n",
    "    return 1/(1+np.exp(x))"
   ]
  },
  {
   "cell_type": "code",
   "execution_count": 34,
   "id": "11e7e99b",
   "metadata": {},
   "outputs": [
    {
     "data": {
      "text/plain": [
       "array([0.5       , 0.5       , 0.70805784, 0.5057991 , 0.44279418])"
      ]
     },
     "execution_count": 34,
     "metadata": {},
     "output_type": "execute_result"
    }
   ],
   "source": [
    "f(np.matmul(I,a))+np.matmul(B,M)"
   ]
  },
  {
   "cell_type": "code",
   "execution_count": null,
   "id": "61f7cdef",
   "metadata": {},
   "outputs": [],
   "source": []
  }
 ],
 "metadata": {
  "kernelspec": {
   "display_name": "Python 3",
   "language": "python",
   "name": "python3"
  },
  "language_info": {
   "codemirror_mode": {
    "name": "ipython",
    "version": 3
   },
   "file_extension": ".py",
   "mimetype": "text/x-python",
   "name": "python",
   "nbconvert_exporter": "python",
   "pygments_lexer": "ipython3",
   "version": "3.7.10"
  }
 },
 "nbformat": 4,
 "nbformat_minor": 5
}
